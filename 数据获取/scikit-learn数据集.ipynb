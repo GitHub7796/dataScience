{
 "cells": [
  {
   "cell_type": "markdown",
   "metadata": {
    "pycharm": {
     "name": "#%% md\n"
    }
   },
   "source": [
    "# 简介"
   ]
  },
  {
   "cell_type": "markdown",
   "metadata": {
    "collapsed": true,
    "notebookRunGroups": {
     "groupValue": ""
    },
    "pycharm": {
     "name": "#%% md\n"
    }
   },
   "source": [
    "scikit-learn的datasets模块主要提供了一些导入、在线下载及本地生成数据集的方法\n",
    "\n",
    "模块的主要函数如下"
   ]
  },
  {
   "attachments": {},
   "cell_type": "markdown",
   "metadata": {
    "pycharm": {
     "name": "#%% md\n"
    }
   },
   "source": [
    "![图 7](image/2022-05-26-pic_1653571154585.png)  \n"
   ]
  },
  {
   "cell_type": "markdown",
   "metadata": {
    "pycharm": {
     "name": "#%% md\n"
    }
   },
   "source": [
    "# 自带数据集 `load_<name>`"
   ]
  },
  {
   "attachments": {},
   "cell_type": "markdown",
   "metadata": {
    "pycharm": {
     "name": "#%% md\n"
    }
   },
   "source": [
    "![图 8](image/2022-05-26-pic_1653571172804.png)  \n"
   ]
  },
  {
   "cell_type": "code",
   "execution_count": 4,
   "metadata": {
    "pycharm": {
     "is_executing": true,
     "name": "#%%\n"
    }
   },
   "outputs": [],
   "source": [
    "from sklearn.datasets import load_iris"
   ]
  },
  {
   "cell_type": "code",
   "execution_count": 5,
   "metadata": {
    "pycharm": {
     "name": "#%%\n"
    }
   },
   "outputs": [],
   "source": [
    "data=load_iris()"
   ]
  },
  {
   "cell_type": "code",
   "execution_count": 7,
   "metadata": {
    "pycharm": {
     "name": "#%%\n"
    },
    "scrolled": false
   },
   "outputs": [
    {
     "name": "stdout",
     "output_type": "stream",
     "text": [
      ".. _iris_dataset:\n",
      "\n",
      "Iris plants dataset\n",
      "--------------------\n",
      "\n",
      "**Data Set Characteristics:**\n",
      "\n",
      "    :Number of Instances: 150 (50 in each of three classes)\n",
      "    :Number of Attributes: 4 numeric, predictive attributes and the class\n",
      "    :Attribute Information:\n",
      "        - sepal length in cm\n",
      "        - sepal width in cm\n",
      "        - petal length in cm\n",
      "        - petal width in cm\n",
      "        - class:\n",
      "                - Iris-Setosa\n",
      "                - Iris-Versicolour\n",
      "                - Iris-Virginica\n",
      "                \n",
      "    :Summary Statistics:\n",
      "\n",
      "    ============== ==== ==== ======= ===== ====================\n",
      "                    Min  Max   Mean    SD   Class Correlation\n",
      "    ============== ==== ==== ======= ===== ====================\n",
      "    sepal length:   4.3  7.9   5.84   0.83    0.7826\n",
      "    sepal width:    2.0  4.4   3.05   0.43   -0.4194\n",
      "    petal length:   1.0  6.9   3.76   1.76    0.9490  (high!)\n",
      "    petal width:    0.1  2.5   1.20   0.76    0.9565  (high!)\n",
      "    ============== ==== ==== ======= ===== ====================\n",
      "\n",
      "    :Missing Attribute Values: None\n",
      "    :Class Distribution: 33.3% for each of 3 classes.\n",
      "    :Creator: R.A. Fisher\n",
      "    :Donor: Michael Marshall (MARSHALL%PLU@io.arc.nasa.gov)\n",
      "    :Date: July, 1988\n",
      "\n",
      "The famous Iris database, first used by Sir R.A. Fisher. The dataset is taken\n",
      "from Fisher's paper. Note that it's the same as in R, but not as in the UCI\n",
      "Machine Learning Repository, which has two wrong data points.\n",
      "\n",
      "This is perhaps the best known database to be found in the\n",
      "pattern recognition literature.  Fisher's paper is a classic in the field and\n",
      "is referenced frequently to this day.  (See Duda & Hart, for example.)  The\n",
      "data set contains 3 classes of 50 instances each, where each class refers to a\n",
      "type of iris plant.  One class is linearly separable from the other 2; the\n",
      "latter are NOT linearly separable from each other.\n",
      "\n",
      ".. topic:: References\n",
      "\n",
      "   - Fisher, R.A. \"The use of multiple measurements in taxonomic problems\"\n",
      "     Annual Eugenics, 7, Part II, 179-188 (1936); also in \"Contributions to\n",
      "     Mathematical Statistics\" (John Wiley, NY, 1950).\n",
      "   - Duda, R.O., & Hart, P.E. (1973) Pattern Classification and Scene Analysis.\n",
      "     (Q327.D83) John Wiley & Sons.  ISBN 0-471-22361-1.  See page 218.\n",
      "   - Dasarathy, B.V. (1980) \"Nosing Around the Neighborhood: A New System\n",
      "     Structure and Classification Rule for Recognition in Partially Exposed\n",
      "     Environments\".  IEEE Transactions on Pattern Analysis and Machine\n",
      "     Intelligence, Vol. PAMI-2, No. 1, 67-71.\n",
      "   - Gates, G.W. (1972) \"The Reduced Nearest Neighbor Rule\".  IEEE Transactions\n",
      "     on Information Theory, May 1972, 431-433.\n",
      "   - See also: 1988 MLC Proceedings, 54-64.  Cheeseman et al\"s AUTOCLASS II\n",
      "     conceptual clustering system finds 3 classes in the data.\n",
      "   - Many, many more ...\n"
     ]
    }
   ],
   "source": [
    "#查看数据描述\n",
    "print(data.DESCR)"
   ]
  },
  {
   "cell_type": "markdown",
   "metadata": {
    "pycharm": {
     "name": "#%% md\n"
    }
   },
   "source": [
    "# 在线下载数据集 `fetch_<name>`"
   ]
  },
  {
   "attachments": {},
   "cell_type": "markdown",
   "metadata": {
    "pycharm": {
     "name": "#%% md\n"
    }
   },
   "source": [
    "![图 9](image/2022-05-26-pic_1653571194057.png)  \n"
   ]
  },
  {
   "cell_type": "markdown",
   "metadata": {
    "pycharm": {
     "name": "#%% md\n"
    }
   },
   "source": [
    "## 通过`fetch_<name>` 直接下载"
   ]
  },
  {
   "attachments": {},
   "cell_type": "markdown",
   "metadata": {
    "pycharm": {
     "name": "#%% md\n"
    }
   },
   "source": [
    "![图 10](image/2022-05-26-pic_1653571207433.png)  \n"
   ]
  },
  {
   "cell_type": "markdown",
   "metadata": {
    "pycharm": {
     "name": "#%% md\n"
    }
   },
   "source": [
    "注意:`fetch_<name>` 从国外下载数据集，速度可能慢"
   ]
  },
  {
   "cell_type": "code",
   "execution_count": 8,
   "metadata": {
    "pycharm": {
     "name": "#%%\n"
    }
   },
   "outputs": [],
   "source": [
    "from sklearn.datasets import fetch_20newsgroups\n",
    "newsgroups_train=fetch_20newsgroups(subset='train')\n",
    "newsgroups_test=fetch_20newsgroups(subset='test')"
   ]
  },
  {
   "cell_type": "markdown",
   "metadata": {
    "pycharm": {
     "name": "#%% md\n"
    }
   },
   "source": [
    "## 下载 svmlight/libsvm 格式到本地载入"
   ]
  },
  {
   "cell_type": "markdown",
   "metadata": {
    "pycharm": {
     "name": "#%% md\n"
    }
   },
   "source": [
    "scikit-learn提供以svmlight/libsvm格式加载数据集,更多请参考：[svmlight/libsvm格式公共数据集](https://www.csie.ntu.edu.tw/~cjlin/libsvmtools/datasets/)\n",
    "\n",
    "在该模块中，使用SciPy稀疏CSR矩阵，并使用numpy数组\n",
    "\n",
    "这种格式中，每一行都采用表格，此格式特别适用于稀疏数据集\n"
   ]
  },
  {
   "cell_type": "code",
   "execution_count": 10,
   "metadata": {
    "pycharm": {
     "name": "#%%\n"
    }
   },
   "outputs": [
    {
     "ename": "FileNotFoundError",
     "evalue": "[Errno 2] No such file or directory: '/path/to/train_dataset.txt '",
     "output_type": "error",
     "traceback": [
      "\u001b[1;31m---------------------------------------------------------------------------\u001b[0m",
      "\u001b[1;31mFileNotFoundError\u001b[0m                         Traceback (most recent call last)",
      "\u001b[1;32m~\\AppData\\Local\\Temp/ipykernel_5036/2360141281.py\u001b[0m in \u001b[0;36m<module>\u001b[1;34m\u001b[0m\n\u001b[0;32m      1\u001b[0m \u001b[1;32mfrom\u001b[0m \u001b[0msklearn\u001b[0m\u001b[1;33m.\u001b[0m\u001b[0mdatasets\u001b[0m \u001b[1;32mimport\u001b[0m \u001b[0mload_svmlight_file\u001b[0m\u001b[1;33m\u001b[0m\u001b[1;33m\u001b[0m\u001b[0m\n\u001b[1;32m----> 2\u001b[1;33m \u001b[0mX_train\u001b[0m \u001b[1;33m,\u001b[0m \u001b[0my_train\u001b[0m \u001b[1;33m=\u001b[0m \u001b[0mload_svmlight_file\u001b[0m\u001b[1;33m(\u001b[0m \u001b[1;34m\"/path/to/train_dataset.txt \"\u001b[0m \u001b[1;33m)\u001b[0m\u001b[1;33m\u001b[0m\u001b[1;33m\u001b[0m\u001b[0m\n\u001b[0m\u001b[0;32m      3\u001b[0m \u001b[0mnewsgroups_test\u001b[0m \u001b[1;33m=\u001b[0m \u001b[0mfetch_28newsgroups\u001b[0m\u001b[1;33m(\u001b[0m\u001b[0msubset\u001b[0m\u001b[1;33m=\u001b[0m\u001b[1;34m'test'\u001b[0m\u001b[1;33m)\u001b[0m\u001b[1;33m\u001b[0m\u001b[1;33m\u001b[0m\u001b[0m\n",
      "\u001b[1;32mC:\\ProgramData\\Miniconda3\\lib\\site-packages\\sklearn\\datasets\\_svmlight_format_io.py\u001b[0m in \u001b[0;36mload_svmlight_file\u001b[1;34m(f, n_features, dtype, multilabel, zero_based, query_id, offset, length)\u001b[0m\n\u001b[0;32m    162\u001b[0m     \"\"\"\n\u001b[0;32m    163\u001b[0m     return tuple(\n\u001b[1;32m--> 164\u001b[1;33m         load_svmlight_files(\n\u001b[0m\u001b[0;32m    165\u001b[0m             \u001b[1;33m[\u001b[0m\u001b[0mf\u001b[0m\u001b[1;33m]\u001b[0m\u001b[1;33m,\u001b[0m\u001b[1;33m\u001b[0m\u001b[1;33m\u001b[0m\u001b[0m\n\u001b[0;32m    166\u001b[0m             \u001b[0mn_features\u001b[0m\u001b[1;33m=\u001b[0m\u001b[0mn_features\u001b[0m\u001b[1;33m,\u001b[0m\u001b[1;33m\u001b[0m\u001b[1;33m\u001b[0m\u001b[0m\n",
      "\u001b[1;32mC:\\ProgramData\\Miniconda3\\lib\\site-packages\\sklearn\\datasets\\_svmlight_format_io.py\u001b[0m in \u001b[0;36mload_svmlight_files\u001b[1;34m(files, n_features, dtype, multilabel, zero_based, query_id, offset, length)\u001b[0m\n\u001b[0;32m    320\u001b[0m         \u001b[1;32mraise\u001b[0m \u001b[0mValueError\u001b[0m\u001b[1;33m(\u001b[0m\u001b[1;34m\"n_features is required when offset or length is specified.\"\u001b[0m\u001b[1;33m)\u001b[0m\u001b[1;33m\u001b[0m\u001b[1;33m\u001b[0m\u001b[0m\n\u001b[0;32m    321\u001b[0m \u001b[1;33m\u001b[0m\u001b[0m\n\u001b[1;32m--> 322\u001b[1;33m     r = [\n\u001b[0m\u001b[0;32m    323\u001b[0m         _open_and_load(\n\u001b[0;32m    324\u001b[0m             \u001b[0mf\u001b[0m\u001b[1;33m,\u001b[0m\u001b[1;33m\u001b[0m\u001b[1;33m\u001b[0m\u001b[0m\n",
      "\u001b[1;32mC:\\ProgramData\\Miniconda3\\lib\\site-packages\\sklearn\\datasets\\_svmlight_format_io.py\u001b[0m in \u001b[0;36m<listcomp>\u001b[1;34m(.0)\u001b[0m\n\u001b[0;32m    321\u001b[0m \u001b[1;33m\u001b[0m\u001b[0m\n\u001b[0;32m    322\u001b[0m     r = [\n\u001b[1;32m--> 323\u001b[1;33m         _open_and_load(\n\u001b[0m\u001b[0;32m    324\u001b[0m             \u001b[0mf\u001b[0m\u001b[1;33m,\u001b[0m\u001b[1;33m\u001b[0m\u001b[1;33m\u001b[0m\u001b[0m\n\u001b[0;32m    325\u001b[0m             \u001b[0mdtype\u001b[0m\u001b[1;33m,\u001b[0m\u001b[1;33m\u001b[0m\u001b[1;33m\u001b[0m\u001b[0m\n",
      "\u001b[1;32mC:\\ProgramData\\Miniconda3\\lib\\site-packages\\sklearn\\datasets\\_svmlight_format_io.py\u001b[0m in \u001b[0;36m_open_and_load\u001b[1;34m(f, dtype, multilabel, zero_based, query_id, offset, length)\u001b[0m\n\u001b[0;32m    200\u001b[0m         )\n\u001b[0;32m    201\u001b[0m     \u001b[1;32melse\u001b[0m\u001b[1;33m:\u001b[0m\u001b[1;33m\u001b[0m\u001b[1;33m\u001b[0m\u001b[0m\n\u001b[1;32m--> 202\u001b[1;33m         \u001b[1;32mwith\u001b[0m \u001b[0mclosing\u001b[0m\u001b[1;33m(\u001b[0m\u001b[0m_gen_open\u001b[0m\u001b[1;33m(\u001b[0m\u001b[0mf\u001b[0m\u001b[1;33m)\u001b[0m\u001b[1;33m)\u001b[0m \u001b[1;32mas\u001b[0m \u001b[0mf\u001b[0m\u001b[1;33m:\u001b[0m\u001b[1;33m\u001b[0m\u001b[1;33m\u001b[0m\u001b[0m\n\u001b[0m\u001b[0;32m    203\u001b[0m             actual_dtype, data, ind, indptr, labels, query = _load_svmlight_file(\n\u001b[0;32m    204\u001b[0m                 \u001b[0mf\u001b[0m\u001b[1;33m,\u001b[0m \u001b[0mdtype\u001b[0m\u001b[1;33m,\u001b[0m \u001b[0mmultilabel\u001b[0m\u001b[1;33m,\u001b[0m \u001b[0mzero_based\u001b[0m\u001b[1;33m,\u001b[0m \u001b[0mquery_id\u001b[0m\u001b[1;33m,\u001b[0m \u001b[0moffset\u001b[0m\u001b[1;33m,\u001b[0m \u001b[0mlength\u001b[0m\u001b[1;33m\u001b[0m\u001b[1;33m\u001b[0m\u001b[0m\n",
      "\u001b[1;32mC:\\ProgramData\\Miniconda3\\lib\\site-packages\\sklearn\\datasets\\_svmlight_format_io.py\u001b[0m in \u001b[0;36m_gen_open\u001b[1;34m(f)\u001b[0m\n\u001b[0;32m    191\u001b[0m         \u001b[1;32mreturn\u001b[0m \u001b[0mBZ2File\u001b[0m\u001b[1;33m(\u001b[0m\u001b[0mf\u001b[0m\u001b[1;33m,\u001b[0m \u001b[1;34m\"rb\"\u001b[0m\u001b[1;33m)\u001b[0m\u001b[1;33m\u001b[0m\u001b[1;33m\u001b[0m\u001b[0m\n\u001b[0;32m    192\u001b[0m     \u001b[1;32melse\u001b[0m\u001b[1;33m:\u001b[0m\u001b[1;33m\u001b[0m\u001b[1;33m\u001b[0m\u001b[0m\n\u001b[1;32m--> 193\u001b[1;33m         \u001b[1;32mreturn\u001b[0m \u001b[0mopen\u001b[0m\u001b[1;33m(\u001b[0m\u001b[0mf\u001b[0m\u001b[1;33m,\u001b[0m \u001b[1;34m\"rb\"\u001b[0m\u001b[1;33m)\u001b[0m\u001b[1;33m\u001b[0m\u001b[1;33m\u001b[0m\u001b[0m\n\u001b[0m\u001b[0;32m    194\u001b[0m \u001b[1;33m\u001b[0m\u001b[0m\n\u001b[0;32m    195\u001b[0m \u001b[1;33m\u001b[0m\u001b[0m\n",
      "\u001b[1;31mFileNotFoundError\u001b[0m: [Errno 2] No such file or directory: '/path/to/train_dataset.txt '"
     ]
    }
   ],
   "source": [
    "from sklearn.datasets import load_svmlight_file\n",
    "X_train , y_train = load_svmlight_file( \"/path/to/train_dataset.txt \" )\n",
    "newsgroups_test = fetch_28newsgroups(subset='test')"
   ]
  },
  {
   "cell_type": "markdown",
   "metadata": {
    "pycharm": {
     "name": "#%% md\n"
    }
   },
   "source": [
    "## 通过fetch_openml下载"
   ]
  },
  {
   "cell_type": "markdown",
   "metadata": {
    "pycharm": {
     "name": "#%% md\n"
    }
   },
   "source": [
    "openml.org是机器学习数据和实验的公共存储库，允许每个人上传开放数据集,更多请参考：[OpemML官网](https://www.openml.org/search?type=data)\n",
    "\n",
    "sklearn.datasets能够从存储库下载数据集"
   ]
  },
  {
   "cell_type": "code",
   "execution_count": 11,
   "metadata": {
    "pycharm": {
     "name": "#%%\n"
    }
   },
   "outputs": [
    {
     "name": "stdout",
     "output_type": "stream",
     "text": [
      "**Author**: Clara Higuera, Katheleen J. Gardiner, Krzysztof J. Cios  \n",
      "**Source**: [UCI](https://archive.ics.uci.edu/ml/datasets/Mice+Protein+Expression) - 2015   \n",
      "**Please cite**: Higuera C, Gardiner KJ, Cios KJ (2015) Self-Organizing Feature Maps Identify Proteins Critical to Learning in a Mouse Model of Down Syndrome. PLoS ONE 10(6): e0129126.\n",
      "\n",
      "Expression levels of 77 proteins measured in the cerebral cortex of 8 classes of control and Down syndrome mice exposed to context fear conditioning, a task used to assess associative learning.\n",
      "\n",
      "The data set consists of the expression levels of 77 proteins/protein modifications that produced detectable signals in the nuclear fraction of cortex. There are 38 control mice and 34 trisomic mice (Down syndrome), for a total of 72 mice. In the experiments, 15 measurements were registered of each protein per sample/mouse. Therefore, for control mice, there are 38x15, or 570 measurements, and for trisomic mice, there are 34x15, or 510 measurements. The dataset contains a total of 1080 measurements per protein. Each measurement can be considered as an independent sample/mouse. \n",
      "\n",
      "The eight classes of mice are described based on features such as genotype, behavior and treatment. According to genotype, mice can be control or trisomic. According to behavior, some mice have been stimulated to learn (context-shock) and others have not (shock-context) and in order to assess the effect of the drug memantine in recovering the ability to learn in trisomic mice, some mice have been injected with the drug and others have not. \n",
      "\n",
      "Classes: \n",
      "```\n",
      "* c-CS-s: control mice, stimulated to learn, injected with saline (9 mice) \n",
      "* c-CS-m: control mice, stimulated to learn, injected with memantine (10 mice) \n",
      "* c-SC-s: control mice, not stimulated to learn, injected with saline (9 mice) \n",
      "* c-SC-m: control mice, not stimulated to learn, injected with memantine (10 mice) \n",
      "* t-CS-s: trisomy mice, stimulated to learn, injected with saline (7 mice) \n",
      "* t-CS-m: trisomy mice, stimulated to learn, injected with memantine (9 mice) \n",
      "* t-SC-s: trisomy mice, not stimulated to learn, injected with saline (9 mice) \n",
      "* t-SC-m: trisomy mice, not stimulated to learn, injected with memantine (9 mice) \n",
      "```\n",
      "\n",
      "The aim is to identify subsets of proteins that are discriminant between the classes. \n",
      "\n",
      "### Attribute Information:\n",
      "\n",
      "```\n",
      "1 Mouse ID \n",
      "2..78 Values of expression levels of 77 proteins; the names of proteins are followed by &acirc;&euro;&oelig;_n&acirc;&euro; indicating that they were measured in the nuclear fraction. For example: DYRK1A_n \n",
      "79 Genotype: control (c) or trisomy (t) \n",
      "80 Treatment type: memantine (m) or saline (s) \n",
      "81 Behavior: context-shock (CS) or shock-context (SC) \n",
      "82 Class: c-CS-s, c-CS-m, c-SC-s, c-SC-m, t-CS-s, t-CS-m, t-SC-s, t-SC-m \n",
      "```\n",
      "\n",
      "### Relevant Papers:\n",
      "\n",
      "Higuera C, Gardiner KJ, Cios KJ (2015) Self-Organizing Feature Maps Identify Proteins Critical to Learning in a Mouse Model of Down Syndrome. PLoS ONE 10(6): e0129126. [Web Link] journal.pone.0129126 \n",
      "\n",
      "Ahmed MM, Dhanasekaran AR, Block A, Tong S, Costa ACS, Stasko M, et al. (2015) Protein Dynamics Associated with Failed and Rescued Learning in the Ts65Dn Mouse Model of Down Syndrome. PLoS ONE 10(3): e0119491.\n",
      "\n",
      "Downloaded from openml.org.\n"
     ]
    }
   ],
   "source": [
    "from sklearn.datasets import fetch_openml\n",
    "mice=fetch_openml(name='miceprotein',version=4)\n",
    "print(mice.DESCR)"
   ]
  },
  {
   "cell_type": "code",
   "execution_count": 12,
   "metadata": {
    "pycharm": {
     "name": "#%%\n"
    }
   },
   "outputs": [
    {
     "data": {
      "text/plain": [
       "'https://www.openml.org/d/40966'"
      ]
     },
     "execution_count": 12,
     "metadata": {},
     "output_type": "execute_result"
    }
   ],
   "source": [
    "mice.url"
   ]
  },
  {
   "cell_type": "markdown",
   "metadata": {
    "pycharm": {
     "name": "#%% md\n"
    }
   },
   "source": [
    "# 数据生成接口"
   ]
  },
  {
   "cell_type": "markdown",
   "metadata": {
    "pycharm": {
     "name": "#%% md\n"
    }
   },
   "source": [
    "scikit-learn提供了随机数据生成的接口，我们可以很方便地生成指定机器学习类型的数据集"
   ]
  },
  {
   "attachments": {},
   "cell_type": "markdown",
   "metadata": {
    "pycharm": {
     "name": "#%% md\n"
    }
   },
   "source": [
    "![图 11](image/2022-05-26-pic_1653571225768.png)  \n"
   ]
  },
  {
   "cell_type": "markdown",
   "metadata": {
    "pycharm": {
     "name": "#%% md\n"
    }
   },
   "source": [
    "## 常用接口"
   ]
  },
  {
   "cell_type": "markdown",
   "metadata": {
    "pycharm": {
     "name": "#%% md\n"
    }
   },
   "source": [
    "### 用于分类和聚类的接口"
   ]
  },
  {
   "cell_type": "markdown",
   "metadata": {
    "pycharm": {
     "name": "#%% md\n"
    }
   },
   "source": [
    "此接口可生产单标签和多标签，单标签分类和聚类数据的接口函数如下："
   ]
  },
  {
   "attachments": {},
   "cell_type": "markdown",
   "metadata": {
    "pycharm": {
     "name": "#%% md\n"
    }
   },
   "source": [
    "![图 12](image/2022-05-26-pic_1653571239901.png)  \n"
   ]
  },
  {
   "cell_type": "markdown",
   "metadata": {
    "pycharm": {
     "name": "#%% md\n"
    }
   },
   "source": [
    "### 用于多标签分类的接口"
   ]
  },
  {
   "cell_type": "markdown",
   "metadata": {
    "pycharm": {
     "name": "#%% md\n"
    }
   },
   "source": [
    "make_multilabel_classification生成多类多标签数据集，生成的数据集模拟了从很多话题的混合分布中抽取词袋模型，每个文档的话题数量符合泊松分布。话题本身从一个固定的随机分布中抽取出来，同样，单词数量也是泊松分布抽取，句子则是从多项式抽取。"
   ]
  },
  {
   "cell_type": "markdown",
   "metadata": {
    "pycharm": {
     "name": "#%% md\n"
    }
   },
   "source": [
    "### 用于双聚类的接口函数"
   ]
  },
  {
   "cell_type": "markdown",
   "metadata": {
    "pycharm": {
     "name": "#%% md\n"
    }
   },
   "source": [
    "make_biclusters生成具有恒定块对角线结构的数据；\n",
    "\n",
    "make_checkerboard生成具有用于双聚类的块棋盘结构的数据。"
   ]
  },
  {
   "cell_type": "markdown",
   "metadata": {
    "pycharm": {
     "name": "#%% md\n"
    }
   },
   "source": [
    "### 用于回归类型的接口函数"
   ]
  },
  {
   "attachments": {},
   "cell_type": "markdown",
   "metadata": {
    "pycharm": {
     "name": "#%% md\n"
    }
   },
   "source": [
    "![图 13](image/2022-05-26-pic_1653571250165.png)  \n"
   ]
  },
  {
   "cell_type": "markdown",
   "metadata": {
    "pycharm": {
     "name": "#%% md\n"
    }
   },
   "source": [
    "### 用于流行学习的接口函数"
   ]
  },
  {
   "cell_type": "markdown",
   "metadata": {
    "pycharm": {
     "name": "#%% md\n"
    }
   },
   "source": [
    "流形学习，全称流形学习方法（Manifold Learning）\n",
    "\n",
    "假设数据是均匀采样于一个高维欧氏空间中的低维流形，流形学习就是从高维采样数据中恢复低维流形结构，即找到高维空间中的低维流形，并求出相应的嵌入映射，以实现维数约简或者数据可视化\n",
    "\n",
    "从观测到的现象中去寻找事物的本质，进而找到产生数据的内在规律。"
   ]
  },
  {
   "attachments": {},
   "cell_type": "markdown",
   "metadata": {
    "pycharm": {
     "name": "#%% md\n"
    }
   },
   "source": [
    "![图 14](image/2022-05-26-pic_1653571259504.png)  \n"
   ]
  },
  {
   "cell_type": "markdown",
   "metadata": {
    "pycharm": {
     "name": "#%% md\n"
    }
   },
   "source": [
    "### 用于可降维的接口函数"
   ]
  },
  {
   "attachments": {},
   "cell_type": "markdown",
   "metadata": {
    "pycharm": {
     "name": "#%% md\n"
    }
   },
   "source": [
    "![图 15](image/2022-05-26-pic_1653571269390.png)  \n"
   ]
  },
  {
   "cell_type": "markdown",
   "metadata": {
    "pycharm": {
     "name": "#%% md\n"
    }
   },
   "source": [
    "## 分类模型随机数据生成"
   ]
  },
  {
   "cell_type": "markdown",
   "metadata": {
    "pycharm": {
     "name": "#%% md\n"
    }
   },
   "source": [
    "### make_classification"
   ]
  },
  {
   "cell_type": "markdown",
   "metadata": {
    "pycharm": {
     "name": "#%% md\n"
    }
   },
   "source": [
    "```PYTHON\n",
    "make_classification(\n",
    "    n_samples=100, #样本数量\n",
    "    n_features=20, #特征个数 =n_informative+n_redundant+n_repeated\n",
    "    *,\n",
    "    n_informative=2,#信息特征的个数\n",
    "    n_redundant=2,#冗余信息,informative特征的随机线性组合\n",
    "    n_repeated=0,#重复信息，随机提取n_informative和n_redundant特征\n",
    "    n_classes=2,#分类类别\n",
    "    n_clusters_per_class=2,#某一个类别是由几个cluster构成的\n",
    "    weights=None,#分类类别的样本比例，默认值是None，代表均衡比例。\n",
    "    flip_y=0.01,\n",
    "    class_sep=1.0,\n",
    "    hypercube=True,\n",
    "    shift=0.0,\n",
    "    scale=1.0,\n",
    "    shuffle=True,#随机打乱样本\n",
    "    random_state=None,#随机数种子，默认值是None，不配置该参数每次生成的数据都是随机的。\n",
    ")\n",
    "```"
   ]
  },
  {
   "cell_type": "code",
   "execution_count": 19,
   "metadata": {
    "pycharm": {
     "name": "#%%\n"
    }
   },
   "outputs": [],
   "source": [
    "from sklearn.datasets import make_classification\n",
    "import numpy as np\n",
    "import matplotlib.pyplot as plt"
   ]
  },
  {
   "cell_type": "code",
   "execution_count": 21,
   "metadata": {
    "pycharm": {
     "name": "#%%\n"
    }
   },
   "outputs": [
    {
     "data": {
      "image/png": "[encoded data removed]",
      "text/plain": [
       "<Figure size 432x288 with 1 Axes>"
      ]
     },
     "metadata": {
      "needs_background": "light"
     },
     "output_type": "display_data"
    }
   ],
   "source": [
    "X,Y=make_classification(\n",
    "    n_samples=1000,\n",
    "    n_features=5,\n",
    "    n_redundant=0,\n",
    "    n_informative=1,\n",
    "    n_clusters_per_class=1,\n",
    "    n_classes=2,\n",
    "    random_state=20\n",
    ")\n",
    "plt.scatter(X[:,0],X[:,1],marker='o',c=Y)\n",
    "plt.show()"
   ]
  },
  {
   "cell_type": "markdown",
   "metadata": {
    "pycharm": {
     "name": "#%% md\n"
    }
   },
   "source": [
    "## 回归模型随机数据生成"
   ]
  },
  {
   "cell_type": "markdown",
   "metadata": {
    "pycharm": {
     "name": "#%% md\n"
    }
   },
   "source": [
    "### make_regression"
   ]
  },
  {
   "cell_type": "markdown",
   "metadata": {
    "pycharm": {
     "name": "#%% md\n"
    }
   },
   "source": [
    "```PYTHON\n",
    "make_regression(\n",
    "    n_samples=100,#样本数量\n",
    "    n_features=100,#特征个数\n",
    "    *,\n",
    "    n_informative=10,#信息特征的个数\n",
    "    n_targets=1,#回归目标的数量\n",
    "    bias=0.0,#线性模型中的偏差项\n",
    "    effective_rank=None,\n",
    "    tail_strength=0.5,\n",
    "    noise=0.0,#高斯分布的标准差\n",
    "    shuffle=True,#随机打乱样本\n",
    "    coef=False,\n",
    "    random_state=None,#随机数种子\n",
    ")\n",
    "```"
   ]
  },
  {
   "cell_type": "code",
   "execution_count": 22,
   "metadata": {
    "pycharm": {
     "name": "#%%\n"
    }
   },
   "outputs": [],
   "source": [
    "from sklearn.datasets import make_regression\n",
    "import numpy as np\n",
    "import matplotlib.pyplot as plt"
   ]
  },
  {
   "cell_type": "code",
   "execution_count": 33,
   "metadata": {
    "pycharm": {
     "name": "#%%\n"
    }
   },
   "outputs": [
    {
     "data": {
      "image/png": "[encoded data removed]",
      "text/plain": [
       "<Figure size 432x288 with 1 Axes>"
      ]
     },
     "metadata": {
      "needs_background": "light"
     },
     "output_type": "display_data"
    }
   ],
   "source": [
    "X,Y,coef=make_regression(\n",
    "    n_samples=1000,\n",
    "    n_features=3,\n",
    "    noise=10,\n",
    "    coef=True,\n",
    "    random_state=20\n",
    ")\n",
    "plt.scatter(X[:,0],Y,c='b',s=3)\n",
    "plt.plot(X[:,0],X[:,0]*coef[0], c='r')\n",
    "plt.show()"
   ]
  },
  {
   "cell_type": "markdown",
   "metadata": {
    "pycharm": {
     "name": "#%% md\n"
    }
   },
   "source": [
    "## 聚类模型随机数据生成"
   ]
  },
  {
   "cell_type": "markdown",
   "metadata": {
    "pycharm": {
     "name": "#%% md\n"
    }
   },
   "source": [
    "### make_blobs"
   ]
  },
  {
   "cell_type": "markdown",
   "metadata": {
    "pycharm": {
     "name": "#%% md\n"
    }
   },
   "source": [
    "```PYTHON\n",
    "make_blobs(\n",
    "    n_samples=100,#样本数量\n",
    "    n_features=2,#特征个数\n",
    "    *,\n",
    "    centers=None,#产生数据的中心点\n",
    "    cluster_std=1.0,#数据集的标准差\n",
    "    center_box=(-10.0, 10.0),#中心确定之后的数据边界\n",
    "    shuffle=True,#随机打乱样本\n",
    "    random_state=None,#随机数种子\n",
    "    return_centers=False,\n",
    ")\n",
    "```"
   ]
  },
  {
   "cell_type": "code",
   "execution_count": 26,
   "metadata": {
    "pycharm": {
     "name": "#%%\n"
    }
   },
   "outputs": [],
   "source": [
    "from sklearn.datasets import make_blobs\n",
    "import numpy as np\n",
    "import matplotlib.pyplot as plt"
   ]
  },
  {
   "cell_type": "code",
   "execution_count": 32,
   "metadata": {
    "pycharm": {
     "name": "#%%\n"
    }
   },
   "outputs": [
    {
     "data": {
      "image/png": "[encoded data removed]",
      "text/plain": [
       "<Figure size 432x288 with 1 Axes>"
      ]
     },
     "metadata": {
      "needs_background": "light"
     },
     "output_type": "display_data"
    }
   ],
   "source": [
    "#X为样本特征，Y为样本类别输出，共1088个样本，每个样本2个特征,共3个簇\n",
    "#簇中心在[-1，-1]，[1，1]，[2，2]，簇方差分别为[0.4，8.5,8.2]\n",
    "X,Y = make_blobs(\n",
    "    n_samples=1088,\n",
    "    n_features=5,\n",
    "    centers=[[-2,-1],[1,-0.5],[2,1]],\n",
    "    cluster_std=[8.6,8.3,0.5],\n",
    "    random_state =20\n",
    ")\n",
    "plt.scatter(X[:,0],X[:,1],marker='o',c=Y)\n",
    "plt.show()"
   ]
  },
  {
   "cell_type": "markdown",
   "metadata": {
    "pycharm": {
     "name": "#%% md\n"
    }
   },
   "source": [
    "# 随机数生成"
   ]
  },
  {
   "attachments": {},
   "cell_type": "markdown",
   "metadata": {
    "pycharm": {
     "name": "#%% md\n"
    }
   },
   "source": [
    "![图 16](image/2022-05-26-pic_1653571281978.png)  \n"
   ]
  },
  {
   "cell_type": "markdown",
   "metadata": {
    "pycharm": {
     "name": "#%% md\n"
    }
   },
   "source": [
    "## 真伪随机数"
   ]
  },
  {
   "cell_type": "markdown",
   "metadata": {
    "pycharm": {
     "name": "#%% md\n"
    }
   },
   "source": [
    "真随机数发生器：像无法实现永动机一样，靠程序是永远无法实现真随机数的。真正的随机数是使用物理现象产生的：比如掷骰子、使用电子元件的噪声、核裂变等，这样的随机数发生器叫作真随机数发生器，也称物理性随机数发生器，它们的缺点是技术要求比较高\n",
    "\n",
    "伪随机数发生器：程序得到的随机数是通过一个固定的、可以重复的计算方法生成的，这本身就违反了随机的定义，但是它们具有类似于随机数的统计特征，这样的随机数发生器叫作伪随机数发生器。在实际应用中往往使用伪随机数就足够了。伪随机数中一个很重要的概念就是种子，种子决定了随机数的固定序列，种子固定了，得到的序列就是相同的。"
   ]
  },
  {
   "cell_type": "markdown",
   "metadata": {
    "pycharm": {
     "name": "#%% md\n"
    }
   },
   "source": [
    "## 计算机如何生成随机数"
   ]
  },
  {
   "cell_type": "markdown",
   "metadata": {
    "pycharm": {
     "name": "#%% md\n"
    }
   },
   "source": [
    "计算器如何生成随机数\n",
    "\n",
    "随机种子是用来产生随机数的一个数，在计算机中，它是一个无符号整形数。那么随机种子是从哪里获得的呢？随机种子一般取自系统时钟，确切地说，是来自计算机主板上的定时器在内存中的记数值（注：计算机的主机板上都会有这样一个定时器用来计算当前系统时间，每过一个时钟信号周期计数器都会加1）。\n",
    "\n",
    "伪随机数生成函数虽然只是几个简单的函数，但却是科学家多年的研究成果\n",
    "\n",
    "1）伪随机数并不是假随机数，这里的“伪”是有规律的意思，即计算机产生的伪随机数既是随机的又是有规律的。\n",
    "\n",
    "2）随机种子一般使用自系统时钟。\n",
    "\n",
    "3）随机数是由随机种子根据一定的计算方法计算出来的数值，所以只要计算方法和随机种子固定，那么产生的随机数就不会变。"
   ]
  },
  {
   "cell_type": "markdown",
   "metadata": {
    "pycharm": {
     "name": "#%% md\n"
    }
   },
   "source": [
    "## 随机数应用场景"
   ]
  },
  {
   "attachments": {},
   "cell_type": "markdown",
   "metadata": {
    "pycharm": {
     "name": "#%% md\n"
    }
   },
   "source": [
    "![图 17](image/2022-05-26-pic_1653571292164.png)  \n"
   ]
  },
  {
   "cell_type": "markdown",
   "metadata": {
    "pycharm": {
     "name": "#%% md\n"
    }
   },
   "source": [
    "## 随机数生成示例"
   ]
  },
  {
   "cell_type": "code",
   "execution_count": 34,
   "metadata": {
    "pycharm": {
     "name": "#%%\n"
    }
   },
   "outputs": [],
   "source": [
    "import numpy as np\n",
    "import matplotlib.pyplot as plt\n",
    "from sklearn.datasets import make_blobs"
   ]
  },
  {
   "cell_type": "code",
   "execution_count": 35,
   "metadata": {
    "pycharm": {
     "name": "#%%\n"
    }
   },
   "outputs": [],
   "source": [
    "#配置随机数种子，不指定随机数种子每次生成的数据都不—样\n",
    "np.random.seed(10)"
   ]
  },
  {
   "cell_type": "code",
   "execution_count": 39,
   "metadata": {
    "pycharm": {
     "name": "#%%\n"
    }
   },
   "outputs": [
    {
     "data": {
      "text/plain": [
       "array([2.51504672, 2.79310832, 2.8444389 , 2.86376125, 2.16563778,\n",
       "       1.04018727, 2.12861434, 1.40068058, 2.61657867, 1.6426195 ,\n",
       "       2.78825976, 1.98599856, 1.1314587 , 1.26737106, 2.8938282 ,\n",
       "       2.70588763, 1.10736279, 1.32660162, 2.09444659, 1.1652066 ,\n",
       "       1.975018  , 1.99907981, 2.01167681, 2.3639731 , 1.0138137 ,\n",
       "       1.52432488, 1.65300556, 1.57621102, 2.67517621, 2.10098331,\n",
       "       2.75480956, 1.77119109, 2.04927523, 1.62005417, 1.12856207,\n",
       "       1.58354398, 1.14002311, 1.73215736, 1.87715182, 2.78154331,\n",
       "       1.65067639, 1.02069448, 2.38659687, 1.16917686, 2.36889338,\n",
       "       2.20500116, 1.66071586, 1.93486243, 2.13242464, 1.43180769,\n",
       "       1.27909033, 1.9920743 , 2.95711598, 1.93298552, 1.37444759,\n",
       "       2.35893266, 2.84639323, 1.87235745, 1.97453727, 1.27129925,\n",
       "       2.02866953, 2.62058241, 1.03974128, 1.69646237, 2.48134696,\n",
       "       1.94508914, 1.66096874, 1.68200116, 1.29282756, 2.29664931,\n",
       "       2.7648416 , 1.86595572, 1.96952319, 2.42099117, 2.04781222,\n",
       "       2.18103837, 1.41350336, 1.31681137, 1.86636839, 1.40788243,\n",
       "       2.98056713, 1.85878581, 2.71553145, 2.36039214, 1.8221201 ,\n",
       "       2.45333797, 1.31864479, 1.88629895, 2.33426506, 1.80859564,\n",
       "       2.64544881, 2.29538243, 2.66175083, 2.95001845, 2.96012665,\n",
       "       1.85001299, 1.21098255, 2.45113812, 2.72929086, 1.10010158,\n",
       "       2.36257666, 1.32910955, 2.70659098, 1.06910637, 2.03920348,\n",
       "       1.73963472, 2.85608507, 2.01842024, 2.60254464, 2.39068972,\n",
       "       1.67866466, 1.51550315, 1.58521459, 1.50495775, 1.2214421 ,\n",
       "       1.42908935, 1.08888868, 1.15777395, 1.15786311, 1.24350786,\n",
       "       1.51088863, 1.91499068, 1.39464056, 1.86573604, 1.2791324 ,\n",
       "       2.23181706, 2.86341816, 2.83806263, 2.48342981, 2.9805486 ,\n",
       "       1.98095641, 2.95831825, 1.9469024 , 2.15374932, 2.82404621,\n",
       "       1.71020465, 1.60848333, 1.241082  , 2.0913707 , 2.4512027 ,\n",
       "       2.00804821, 2.72897639, 2.66241564, 1.70094056, 1.44193678,\n",
       "       1.09150558, 1.88341016, 1.76039492, 1.63309561, 1.6787256 ,\n",
       "       2.02550217, 1.53640078, 2.27799591, 1.04713135, 2.61693355,\n",
       "       2.59660268, 1.22785952, 1.57151238, 2.90400091, 2.79993703,\n",
       "       1.10670031, 1.74621226, 1.4182262 , 1.0866775 , 2.38056711,\n",
       "       2.26957393, 2.08578813, 2.875957  , 1.36412359, 2.97653771,\n",
       "       1.89502741, 2.27812706, 2.84794028, 1.30320237, 2.09071843,\n",
       "       1.13154919, 1.18058588, 1.88754147, 2.32591054, 1.70666449])"
      ]
     },
     "execution_count": 39,
     "metadata": {},
     "output_type": "execute_result"
    }
   ],
   "source": [
    "#从均匀分布([low,high):半开区间)中进行采样浮点数\n",
    "np.random.uniform(low=1,high=3,size=180)"
   ]
  },
  {
   "cell_type": "code",
   "execution_count": 37,
   "metadata": {
    "pycharm": {
     "name": "#%%\n"
    }
   },
   "outputs": [
    {
     "data": {
      "text/plain": [
       "array([[1.86175801, 2.90608495, 1.96457909, ..., 2.74139576, 1.96700807,\n",
       "        1.45704817],\n",
       "       [2.13314735, 2.55323619, 2.87803901, ..., 2.09150637, 2.82861779,\n",
       "        1.79923538],\n",
       "       [2.40168973, 1.87859046, 1.36724993, ..., 1.05403272, 2.56731939,\n",
       "        2.52450442],\n",
       "       ...,\n",
       "       [2.78591185, 1.31183092, 1.02217445, ..., 2.45004127, 1.81721688,\n",
       "        2.90737658],\n",
       "       [1.87350793, 2.81951553, 1.7536304 , ..., 2.04843737, 1.01271546,\n",
       "        2.24184855],\n",
       "       [1.62162314, 2.76485496, 2.81506778, ..., 2.86810961, 2.97839876,\n",
       "        2.81319599]])"
      ]
     },
     "execution_count": 37,
     "metadata": {},
     "output_type": "execute_result"
    }
   ],
   "source": [
    "#从均匀分布([low， high):半开区间)中进行采样浮点数，生成188*180矩阵\n",
    "np.random.uniform(low=1,high=3,size=[100,100])"
   ]
  },
  {
   "cell_type": "code",
   "execution_count": 40,
   "metadata": {
    "pycharm": {
     "name": "#%%\n"
    }
   },
   "outputs": [
    {
     "data": {
      "text/plain": [
       "array([9, 3, 3, 7, 1, 4, 5, 2, 4, 1, 3, 2, 1, 4, 5, 6, 7, 7, 7, 6, 9, 7,\n",
       "       3, 7, 9, 5, 2, 1, 2, 3, 3, 7, 4, 1, 9, 6, 7, 2, 4, 3, 9, 5, 7, 2,\n",
       "       8, 3, 5, 1, 6, 3, 8, 5, 2, 3, 7, 8, 7, 3, 9, 4, 2, 4, 8, 4, 7, 3,\n",
       "       2, 6, 6, 2, 5, 1, 4, 8, 9, 4, 2, 9, 2, 2, 1, 9, 5, 4, 6, 1, 6, 7,\n",
       "       5, 2, 8, 9, 2, 6, 7, 1, 5, 2, 5, 6])"
      ]
     },
     "execution_count": 40,
     "metadata": {},
     "output_type": "execute_result"
    }
   ],
   "source": [
    "#生成半开半闭区间[low,high)上离散均匀分布的整数值\n",
    "np.random.randint(low=1,high=10,size=100)"
   ]
  },
  {
   "cell_type": "code",
   "execution_count": 41,
   "metadata": {
    "pycharm": {
     "name": "#%%\n"
    }
   },
   "outputs": [
    {
     "data": {
      "text/plain": [
       "array([ 9.24670632,  6.46545358,  4.43892032,  6.17399963,  9.50600554,\n",
       "        6.94197136,  7.86110293,  8.42797034,  6.99693251, 10.44326684,\n",
       "        6.79852628,  9.92906185, 10.40637913,  7.28668811, 11.95059516,\n",
       "        7.15873859,  6.15358469,  5.87183778,  9.09218687,  6.77413001,\n",
       "        7.74315617,  8.95303476, 10.90128834,  6.43164067,  7.52614406,\n",
       "        7.25158784,  6.10262561,  7.46906005,  9.24781279,  6.76806111,\n",
       "        4.69405409, 11.12312405,  7.65533652,  5.85943877,  6.54624896,\n",
       "        5.16683848,  7.34801081,  7.82507133,  9.73277076, 10.72273086,\n",
       "        5.99601142, 10.8438568 , 10.03766093,  8.14269305,  7.89857233,\n",
       "        5.69133752,  7.5801861 ,  6.77096873,  7.64513239,  9.09182601,\n",
       "        5.86891704,  5.39954189,  8.53197667,  7.94909633,  7.36441915,\n",
       "        8.21610572,  8.14569991,  5.52549176,  5.91374467,  7.03361059,\n",
       "        7.41089399,  4.97976513, 10.40234918,  8.23324585,  7.0014836 ,\n",
       "        9.20837525,  9.30671217,  9.47899864,  7.21371664,  8.52377246,\n",
       "        5.92573069, 11.59187025,  4.6712183 ,  5.49874895,  8.74512993,\n",
       "        8.39587119,  4.26932834,  8.49340081,  9.96799328,  9.25026704,\n",
       "        9.86686642,  8.79794812,  6.74256013,  9.69811046,  5.7161465 ,\n",
       "        4.70943161, 10.53138023,  8.2831256 ,  6.52072372,  8.06831598,\n",
       "        8.38741709,  4.40104704,  3.971602  , 10.57858909,  6.89284921,\n",
       "        6.74036692, 10.96961548,  7.44010885,  5.65413563, 10.26629869,\n",
       "        8.4840238 ,  9.27072248,  6.25498398,  7.39416885,  9.19631455,\n",
       "        6.9979249 ,  6.52988705,  6.3906141 ,  9.70555628,  7.49514287,\n",
       "        7.93687317,  8.02424357,  8.89272797,  9.3969296 , 11.07418959,\n",
       "        7.10575244,  6.25742515,  9.93817895,  7.36046435,  9.39399922,\n",
       "        9.38146311, 10.4417735 ,  7.29402555,  4.14825845,  7.16836812,\n",
       "        6.19358072,  8.17567919,  8.1706055 ,  7.4415839 ,  9.33366673,\n",
       "        5.28022366,  7.29467962,  6.63995949,  5.84096171,  7.34036881,\n",
       "        8.53091313,  7.65381663, 11.08720277,  8.2266015 ,  6.26243452,\n",
       "        8.30924215,  6.01599282,  8.57000627,  9.14999143, 10.0085293 ,\n",
       "        7.26198895,  6.41967242,  6.53426595,  9.21856721, 11.75376986,\n",
       "        8.98702796,  5.66365338,  9.14830979, 11.42356835,  6.90628688,\n",
       "        7.56842943,  5.9593685 , 10.23625661,  7.10195108,  8.47236849,\n",
       "        9.04818601,  8.73771942,  6.06205459,  9.86676515,  6.54576698,\n",
       "        6.93593141,  7.78644211,  7.49378137,  4.96370285, 10.54843428,\n",
       "        8.92830129,  6.1619317 ,  7.76188694,  7.55177072,  8.4365254 ,\n",
       "        6.04533596,  4.75468301,  6.56641754,  9.56321046,  8.17941513])"
      ]
     },
     "execution_count": 41,
     "metadata": {},
     "output_type": "execute_result"
    }
   ],
   "source": [
    "#正态分布\n",
    "np.random.normal(loc=8,scale=1.8,size=180)"
   ]
  }
 ],
 "metadata": {
  "interpreter": {
   "hash": "19d1d53a962d236aa061289c2ac16dc8e6d9648c89fe79f459ae9a3493bc67b4"
  },
  "kernelspec": {
   "display_name": "Python 3 (ipykernel)",
   "language": "python",
   "name": "python3"
  },
  "language_info": {
   "codemirror_mode": {
    "name": "ipython",
    "version": 3
   },
   "file_extension": ".py",
   "mimetype": "text/x-python",
   "name": "python",
   "nbconvert_exporter": "python",
   "pygments_lexer": "ipython3",
   "version": "3.9.7"
  },
  "toc": {
   "base_numbering": 1,
   "nav_menu": {},
   "number_sections": true,
   "sideBar": true,
   "skip_h1_title": false,
   "title_cell": "Table of Contents",
   "title_sidebar": "Contents",
   "toc_cell": false,
   "toc_position": {
    "height": "calc(100% - 180px)",
    "left": "10px",
    "top": "150px",
    "width": "165px"
   },
   "toc_section_display": true,
   "toc_window_display": true
  },
  "varInspector": {
   "cols": {
    "lenName": 16,
    "lenType": 16,
    "lenVar": 40
   },
   "kernels_config": {
    "python": {
     "delete_cmd_postfix": "",
     "delete_cmd_prefix": "del ",
     "library": "var_list.py",
     "varRefreshCmd": "print(var_dic_list())"
    },
    "r": {
     "delete_cmd_postfix": ") ",
     "delete_cmd_prefix": "rm(",
     "library": "var_list.r",
     "varRefreshCmd": "cat(var_dic_list()) "
    }
   },
   "types_to_exclude": [
    "module",
    "function",
    "builtin_function_or_method",
    "instance",
    "_Feature"
   ],
   "window_display": false
  }
 },
 "nbformat": 4,
 "nbformat_minor": 1
}
